{
 "cells": [
  {
   "cell_type": "markdown",
   "id": "3eee2ecb",
   "metadata": {},
   "source": [
    "## Rapport pour agréger les résultats des méthodes TABU\n",
    "\n",
    "note : Nous avons tenté d'intégrer l'aspiration à nos méthodes (ignorer la liste tabu si l'opération donne un voisin plus grand que la meilleure solution jamais trouvée, mais ce n'était pas probant, et plus long, donc on a rien sauvegardé et tout laissé ailleurs)\n",
    "\n",
    "### Différences Algorithmiques\n",
    "\n",
    "- Tabu 1 est en gros le tabu du cours, sauf qu'il a un paramètre pour lui laisser dépasser la capacité du sac à dos dans ses recherches. Il peut accepter des valeurs 10% plus grandes que la taille du sac, etc.\n",
    "- tabu 2 compte le poids au dessus de la capacité du sac a dos, le multiplie par un facteur et le soustrait à la valeur de la somme des fitnesss des items du sac. Le facteur est paramétrable\n",
    "\n",
    "De manière générale, il semble que tabu 2 soit plus efficace pour trouver des solutions optimale, surtout sur les pi-13...\n",
    "\n",
    "#### LES TABLEAUX SONT NOS AMIS\n",
    "\n",
    "Les 3 classes TABU_NUMPY, TABU_openCL et tabu_opencl2 donnent les mêmes résultats avec les mêmes données de départ.\n",
    "\n",
    "Ils sont tous basé sur TABU2 (sans héritage car le ctrl-c ctrl-v existe), et sont sensés être quasi-identiques à celui ci.\n",
    "\n",
    "Ils fonctionnent en calculant avect quelques opérations sur des tableaux les différences de fitness des N voisins possibles.\n",
    "\n",
    "Ensuite, on récupère l'indice de la meilleure valeur pour avoir le meilleur voisin (en prenant en compte la liste tabu )\n",
    "\n",
    "- tabu numpy le fait avec numpy\n",
    "- tabu opencl calcul les voisins sur la carte graphique avec pyopencl, puis calcul le meilleur avec numpy\n",
    "- tabu opencl2 fait tout sur la carte graphique avec des supers algos de réductions\n",
    "\n",
    "Au final, numpy est le plus efficace : environ 80 fois plus rapide que le tabu 2 classique.\n",
    "\n",
    "OpenCL2 quand à lui est environ 2 fois plus long que numpy (et encore ce n'est en prenant en compte que la résolution d'un problème, pas la compilation du programme etc...).\n",
    "\n",
    "Dans un pc avec un CPU faible ou très occupé, opencl pourrait être plus rapide. Il pourrait également l'être si on utilise la classe Testor et qu'on teste autant de solutions  en parallèle que le CPU n'a de coeurs : alors numpy ne pourrait pas aussi bien profiter du multi-processing, et utiliser la carte graphique pourrait être plus intéressant (Je tente de trouver des justifications à ces heures de développement dans le cadre de ce projet 👀)\n"
   ]
  },
  {
   "cell_type": "markdown",
   "id": "fe384310",
   "metadata": {},
   "source": [
    "### Méthodo\n",
    "\n",
    "Déjàs on a mis en place un système de seed (après un certain temps) pour que les tests soient reproductibles (toujours sur 1 pour les tabou, la seed par défaut).... Il n'a pas été utilisé sur tabu 1, mais l'a été sur une bonne part de tabu 2.\n",
    "\n",
    "On a fait varier les paramètres 1 par un, avec peu d'itérations de tests pour avoir des idées globales.\n",
    "\n",
    "Ensuite en repartant des paramètes qui marchent à peu près bien pour tous (plus trop de traces de ces recherches), on a fait varier :\n",
    "1. taille de la liste TABU (avec trop d'itérations à priori)\n",
    "2. nombre d'itération\n",
    "3. facteur overflow  ou poids max\n",
    "4. taille initiale\n",
    "5. le nombre d'itérations à nouveau, ou d'autres paramètres en fonction.\n",
    "\n",
    "\n",
    "\n",
    "### Paramètres Optimaux"
   ]
  },
  {
   "cell_type": "markdown",
   "id": "b5e887d6",
   "metadata": {},
   "source": [
    "#### pour 100 item :\n",
    "les chiffres après représentent le sac à dos associé au paramètre (1 pour le 12, 2 pour 13, 3 -> 15)"
   ]
  },
  {
   "cell_type": "code",
   "execution_count": null,
   "id": "2357e1a6",
   "metadata": {},
   "outputs": [],
   "source": [
    "# tabu 1\n",
    "iter_max1n3 = 200 \n",
    "tabu_size1n3 = 60\n",
    "iter_max_for2 = 2200\n",
    "tabu_size_for2 = 95\n",
    "max_weight = 1.0\n",
    "taille_init = 0.01 #1 item"
   ]
  },
  {
   "cell_type": "code",
   "execution_count": null,
   "id": "63a0e41b",
   "metadata": {},
   "outputs": [],
   "source": [
    "#pour tabu 2\n",
    "iter_max = 200 # on récupère le résultat précédent\n",
    "tabu_size = 60\n",
    "comptage_negatif = 2.5\n",
    "taille_init = 0.001 #1 item"
   ]
  },
  {
   "cell_type": "markdown",
   "id": "57cb41b1",
   "metadata": {},
   "source": [
    "#### Paramètres pour 1000 items"
   ]
  },
  {
   "cell_type": "code",
   "execution_count": null,
   "id": "b3811516",
   "metadata": {},
   "outputs": [],
   "source": [
    "#tabu1\n",
    "tabu_size_1= 420\n",
    "tabu_size_2 = 960\n",
    "tabu_size_3 = 100\n",
    "\n",
    "iter1 = 5000\n",
    "iter2 = 3500\n",
    "iter3 = 3500\n",
    "\n",
    "isize1 = 0.001 #on ajoute 1 item, histoire de garder de l'aléatoire \n",
    "isize2 = 0.55\n",
    "isize3 = 0.15\n",
    "\n",
    "max_weight = 1"
   ]
  },
  {
   "cell_type": "code",
   "execution_count": null,
   "id": "59850bdc",
   "metadata": {},
   "outputs": [],
   "source": [
    "#tabu 2\n",
    "over_cost1n2 = 2.75\n",
    "over_cost3 = 1.24\n",
    "\n",
    "iter_max_1 = 500\n",
    "iter_max_2 = 550\n",
    "iter_max_3 = 400\n",
    "\n",
    "taille_init1n2 = 0.01\n",
    "taille_init3 = 1.4\n",
    "\n",
    "tabu_size_1n2=  200\n",
    "tabu_size_3 = 105"
   ]
  },
  {
   "cell_type": "markdown",
   "id": "0cac14b2",
   "metadata": {},
   "source": [
    "#### pour 10k items"
   ]
  },
  {
   "cell_type": "code",
   "execution_count": 3,
   "id": "3e239d32",
   "metadata": {},
   "outputs": [],
   "source": [
    "# Tabu 1\n",
    "tabu_size_1= 420\n",
    "tabu_size_2 = 960\n",
    "tabu_size_3 = 100\n",
    "\n",
    "iter1 = 3000\n",
    "iter2 = 3000\n",
    "iter3 = 3000\n",
    "\n",
    "isize1 = 0.001\n",
    "isize2 = 1\n",
    "isize3 = 1\n",
    "\n",
    "max_weight = 1"
   ]
  },
  {
   "cell_type": "code",
   "execution_count": null,
   "id": "fa6c9821",
   "metadata": {},
   "outputs": [],
   "source": [
    "#tabu 2\n",
    "\n",
    "# alternatifs pour le pi-13 (num 2) : 1.8 avec 1000 itération et une liste tabu de 800\n",
    "\n",
    "overflow_cost1 = 1.1\n",
    "overflow_cost2 = 2.35\n",
    "overflow_cost3 = 1.1\n",
    "\n",
    "iter_max1 = 2500\n",
    "iter_max2 =9000#ou 8000, on y a déjà Plus de 80% de bonne réponse.\n",
    "iter_max3 = 9000\n",
    "\n",
    "taille_init1 = 0.3\n",
    "taille_init2 = 0.3\n",
    "taille_init3 = 0.3\n",
    "\n",
    "tabu_size_1 = 800\n",
    "tabu_size_2 = 1800\n",
    "tabu_size_3 = 1000"
   ]
  },
  {
   "cell_type": "markdown",
   "id": "8f8a9807",
   "metadata": {},
   "source": []
  }
 ],
 "metadata": {
  "kernelspec": {
   "display_name": "Python 3",
   "language": "python",
   "name": "python3"
  },
  "language_info": {
   "codemirror_mode": {
    "name": "ipython",
    "version": 3
   },
   "file_extension": ".py",
   "mimetype": "text/x-python",
   "name": "python",
   "nbconvert_exporter": "python",
   "pygments_lexer": "ipython3",
   "version": "3.13.2"
  }
 },
 "nbformat": 4,
 "nbformat_minor": 5
}
