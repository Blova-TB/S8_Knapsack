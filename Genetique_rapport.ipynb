{
 "cells": [
  {
   "cell_type": "markdown",
   "id": "d6c6f6a3",
   "metadata": {},
   "source": [
    "# Genetique\n",
    "\n",
    "## premiere evolution du code :\n",
    "\n",
    "une premiere version du code utilisait une initialisation du sac a dos completement aléatoire : chaque objet avait une chance sur 2 de se retrouver dans une solution.\n",
    "- __probleme__ : le poid des solutions de la premiere generation était donc bien trop elevée puissqu'elle contenait en moyenne la moitier des elements possible.\n",
    "Le programe génetique n'arrivait alors pas a revenir sur des solutions réalisable puisque la fitness des solutions calculées etaient toute de 0.\n",
    "- __solution__ : nous avons donc remplis le sac a dos avec des objets aléatoire jusqu'a ce que le poid des objet selectionné depasse le poid max du SAD.\n",
    "\n",
    "\n",
    "\n",
    "\n",
    "\n",
    "\n",
    "\n",
    "Liste des different parametre a faire varrier :\n",
    "- nombre d'iteration avant d'arreter le programme\n",
    "- nombre d'individu dans la population\n",
    "- chance de mutation par bit des solutions \n",
    "\n",
    "Pour identifier les parametres permetant d'obtenire de bon resultat dans un temps résonnable, nous avons calculé la fitness moyenne du meilleurs resultat pour des parametre donné. Nous avons ensuite fait varier 1 ou 2 parametres ce qui nous a alors permis de generer des graphs (courbe pour 1 parametre et heatmap pour 2 parametres)\n",
    "\n",
    "\n",
    "\n",
    "\n",
    "\n",
    "\n",
    "\n",
    "\n",
    "pour \"pi-13-100-1000-001.kna\" :\n",
    "sol opti : 1989 \n",
    "classic_solve :\n",
    "    mutation_rate : 0.002-0.003\n",
    "    nombre d'individus : 50-60\n",
    "    nombre d'iteration : 40-50\n",
    "\n",
    "new_mutation_solve :\n",
    "    mutation_rate : 0.005\n",
    "    nombre d'individus : 35-40\n",
    "    nombre d'iteration : 40-50\n"
   ]
  }
 ],
 "metadata": {
  "kernelspec": {
   "display_name": "Python 3",
   "language": "python",
   "name": "python3"
  },
  "language_info": {
   "codemirror_mode": {
    "name": "ipython",
    "version": 3
   },
   "file_extension": ".py",
   "mimetype": "text/x-python",
   "name": "python",
   "nbconvert_exporter": "python",
   "pygments_lexer": "ipython3",
   "version": "3.12.1"
  }
 },
 "nbformat": 4,
 "nbformat_minor": 5
}
