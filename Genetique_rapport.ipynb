{
 "cells": [
  {
   "cell_type": "markdown",
   "id": "d6c6f6a3",
   "metadata": {},
   "source": [
    "# Genetique\n",
    "\n",
    "## premiere evolution du code :\n",
    "\n",
    "une premiere version du code utilisait une initialisation du sac a dos completement aléatoire : chaque objet avait une chance sur 2 de se retrouver dans une solution.\n",
    "- __probleme__ : le poid des solutions de la premiere generation était donc bien trop elevée puissqu'elle contenait en moyenne la moitier des elements possible.\n",
    "Le programe génetique n'arrivait alors pas a revenir sur des solutions réalisable puisque la fitness des solutions calculées etaient toute de 0.\n",
    "- __solution__ : nous avons donc remplis le sac a dos avec des objets aléatoire jusqu'a ce que le poid des objet selectionné depasse le poid max du SAD.\n",
    "\n",
    "\n",
    "\n",
    "\n",
    "\n",
    "\n",
    "\n",
    "Liste des different parametre a faire varrier :\n",
    "- nombre d'iteration avant d'arreter le programme\n",
    "- nombre d'individu dans la population\n",
    "- chance de mutation par bit pour chaque"
   ]
  },
  {
   "cell_type": "code",
   "execution_count": null,
   "id": "2828e538",
   "metadata": {},
   "outputs": [],
   "source": []
  }
 ],
 "metadata": {
  "kernelspec": {
   "display_name": "Python 3",
   "language": "python",
   "name": "python3"
  },
  "language_info": {
   "codemirror_mode": {
    "name": "ipython",
    "version": 3
   },
   "file_extension": ".py",
   "mimetype": "text/x-python",
   "name": "python",
   "nbconvert_exporter": "python",
   "pygments_lexer": "ipython3",
   "version": "3.12.1"
  }
 },
 "nbformat": 4,
 "nbformat_minor": 5
}
