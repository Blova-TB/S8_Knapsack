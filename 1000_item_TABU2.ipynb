{
 "cells": [
  {
   "cell_type": "markdown",
   "metadata": {},
   "source": [
    "## Test des paramètres à 100 items"
   ]
  },
  {
   "cell_type": "code",
   "execution_count": null,
   "metadata": {},
   "outputs": [],
   "source": [
    "from tools.testor import *\n",
    "import tools.parser as parser\n",
    "from tools.SadObject import *\n",
    "import tools.tabou2_solver as tbs\n",
    "from tools.tabou2_solver import *\n",
    "from tools.Other_solver import Other_solver\n",
    "from tools.MyIterator import *\n"
   ]
  },
  {
   "cell_type": "markdown",
   "metadata": {},
   "source": [
    "### Load les fichiers"
   ]
  },
  {
   "cell_type": "code",
   "execution_count": null,
   "metadata": {},
   "outputs": [],
   "source": [
    "sad1 = parser.loadFromFile(\"Data/pi-12-1000-1000-001.kna\")\n",
    "sad2 = parser.loadFromFile(\"Data/pi-13-1000-1000-001.kna\")\n",
    "sad3 = parser.loadFromFile(\"Data/pi-15-1000-1000-001.kna\")"
   ]
  },
  {
   "cell_type": "markdown",
   "metadata": {},
   "source": [
    "### Trouver la valeur optimale"
   ]
  },
  {
   "cell_type": "code",
   "execution_count": null,
   "metadata": {},
   "outputs": [],
   "source": [
    "solver = Other_solver(sad1)\n",
    "sol_opti1,_ = solver.solve()\n",
    "\n",
    "solver = Other_solver(sad2)\n",
    "sol_opti2,_ = solver.solve()\n",
    "\n",
    "solver = Other_solver(sad3)\n",
    "sol_opti3,_ = solver.solve()\n",
    "\n",
    "print(\"les solutions optimales sont\")\n",
    "print(\"sad 1 :\",sol_opti1,\"pour\",sad1.name)\n",
    "print(\"sad 2 :\",sol_opti2,\"pour\",sad2.name)\n",
    "print(\"sad 3 :\",sol_opti3,\"pour\",sad3.name)"
   ]
  },
  {
   "cell_type": "markdown",
   "metadata": {},
   "source": [
    "## Lecture des graphiques :\n",
    "\n",
    "Le + rouge est la médianne, la moyenne est le point bleu.\n",
    "Les barres bleues représentent les limites des percentile 80 et 20"
   ]
  },
  {
   "cell_type": "markdown",
   "metadata": {},
   "source": [
    "### Pour la liste Tabu"
   ]
  },
  {
   "cell_type": "markdown",
   "metadata": {},
   "source": [
    "Voici les différents paramètres amenés à évoluer :\n",
    "-    iter_max : Nombre maximum d'itération de la boucle du solver \n",
    "-    tabu_size : Taille de la liste tabu\n",
    "-   overflow_cost : si =1, 1kg en trop == 1 point de fitness en moins, 2 pour 2 etc.\n",
    "- def_sol_size : rapport entre la capactié du sac à dos et le poids de la solution initiale (0.5, moitié de la capacité)\n",
    "\n",
    "#### Initialisation des paramètres"
   ]
  },
  {
   "cell_type": "code",
   "execution_count": null,
   "metadata": {},
   "outputs": [],
   "source": [
    "iter_max = 3000\n",
    "tabu_size = 100\n",
    "overflow_cost = 3.0\n",
    "init_size = 0.1\n",
    "\n",
    "group_size = 10 #nombre de tests de chaque paramètres dans une éxecutions."
   ]
  },
  {
   "cell_type": "markdown",
   "metadata": {},
   "source": [
    "#### Test taille TABU"
   ]
  },
  {
   "cell_type": "code",
   "execution_count": null,
   "metadata": {},
   "outputs": [],
   "source": [
    "(variateur,title) = variateur_tabou2.liste_tabou2()\n",
    "\n",
    "test = Testor(tbs.tabou2_solver(sad1,iter_max,tabu_size,overflow_cost,init_size))\n",
    "testResult = test.test(range(0,1001,50),variateur,group_size)\n",
    "graph_test_result(testResult,sol_opti1,title + \" sad 1\")\n",
    "\n",
    "test = Testor(tbs.tabou2_solver(sad2,iter_max,tabu_size,overflow_cost,init_size))\n",
    "testResult = test.test(range(0,1001,50),variateur,group_size)\n",
    "graph_test_result(testResult,sol_opti2,title + \" sad 2\")\n",
    "\n",
    "test = Testor(tbs.tabou2_solver(sad3,iter_max,tabu_size,overflow_cost,init_size))\n",
    "testResult = test.test(range(0,1001,50),variateur,group_size)\n",
    "graph_test_result(testResult,sol_opti3,title + \" sad 3\")"
   ]
  },
  {
   "cell_type": "code",
   "execution_count": null,
   "metadata": {},
   "outputs": [],
   "source": [
    "(variateur,title) = variateur_tabou2.liste_tabou2()\n",
    "\n",
    "test = Testor(tbs.tabou2_solver(sad3,iter_max,tabu_size,overflow_cost,init_size))\n",
    "testResult = test.test(range(75,125,5),variateur,group_size)\n",
    "graph_test_result(testResult,sol_opti3,title + \" sad 3\")"
   ]
  },
  {
   "cell_type": "markdown",
   "metadata": {},
   "source": [
    "\n",
    "Pour le premier sac à dos : 0 non, 70 ou plus, oui, avec des solutions optimale dans autour de 20% des cas, et très proches sinon\n",
    "\n",
    "Pour le second : croissance jusqu'à 200, ensuite parfait à partir de 200 inclus.\n",
    "\n",
    "Pour le troisième : croissance jusqu'à 100 puis plateau (légèrement plus bas) mais on trouves rarement la solution optimale"
   ]
  },
  {
   "cell_type": "code",
   "execution_count": null,
   "metadata": {},
   "outputs": [],
   "source": [
    "tabu_size_1=  200\n",
    "tabu_size_2 = 200\n",
    "tabu_size_3 = 105"
   ]
  },
  {
   "cell_type": "code",
   "execution_count": null,
   "metadata": {},
   "outputs": [],
   "source": [
    "(variateur,title) = variateur_tabou2.nombre_iterations()\n",
    "\n",
    "solver = tbs.tabou2_solver(sad1,iter_max,tabu_size_1,overflow_cost,init_size)\n",
    "testResult = Testor(solver).test(range(100,12000,700),variateur,group_size)\n",
    "graph_test_result(testResult,sol_opti1,title + \" sad 1\")\n",
    "\n",
    "test = Testor(tbs.tabou2_solver(sad2,iter_max,tabu_size_2,overflow_cost,init_size))\n",
    "testResult = test.test(range(50,2000,300),variateur,group_size)\n",
    "graph_test_result(testResult,sol_opti2,title + \" sad 2\")\n",
    "\n",
    "test = Testor(tbs.tabou2_solver(sad3,iter_max,tabu_size_3,overflow_cost,init_size))\n",
    "testResult = test.test(range(100,6000,350),variateur,group_size)\n",
    "graph_test_result(testResult,sol_opti3,title + \" sad 3\")\n"
   ]
  },
  {
   "cell_type": "markdown",
   "metadata": {},
   "source": [
    "sad1 : au delà de 700, ça n'a pas l'air de changer grand chose ( un pic à 2000 qui semble fortuit)\n",
    "\n",
    "sad2 : à partir de 700, c'est litéralement parfait.\n",
    "\n",
    "sad3 : au delà de 700, le résultat est meilleurs, mais cesse d'évoluer.\n",
    "\n",
    "\n",
    "## Le comptage négatif du poids supplémentaire"
   ]
  },
  {
   "cell_type": "code",
   "execution_count": null,
   "metadata": {},
   "outputs": [],
   "source": [
    "iter_max = 2000 "
   ]
  },
  {
   "cell_type": "code",
   "execution_count": null,
   "metadata": {},
   "outputs": [],
   "source": [
    "iter = floatRange(1,10,0.6)\n",
    "\n",
    "(var,titre) = variateur_tabou2.compte_negatif_des_points()\n",
    "\n",
    "solver = tbs.tabou2_solver(sad1,iter_max,tabu_size_1,0,init_size)\n",
    "testResult = Testor(solver).test(iter ,var,group_size)\n",
    "graph_test_result(testResult ,sol_opti1,titre+ \" sad 1\")\n",
    "\n",
    "solver = tbs.tabou2_solver(sad2,iter_max,tabu_size_2,0,init_size)\n",
    "testResult = Testor(solver).test(iter ,var,group_size)\n",
    "graph_test_result(testResult,sol_opti2,titre + \" sad 2\")\n",
    "\n",
    "solver = tbs.tabou2_solver(sad3,iter_max,tabu_size_3,0,init_size)\n",
    "testResult = Testor(solver).test(iter,var,group_size)\n",
    "graph_test_result(testResult,sol_opti3,titre + \" sad 3\")\n",
    "\n"
   ]
  },
  {
   "cell_type": "code",
   "execution_count": null,
   "metadata": {},
   "outputs": [],
   "source": [
    "# zoom \n",
    "(var,titre) = variateur_tabou2.compte_negatif_des_points()\n",
    "\n",
    "solver = tbs.tabou2_solver(sad1,iter_max,tabu_size_1,0,init_size)\n",
    "testResult = Testor(solver).test(floatRange(6.5,8.5,0.25) ,var,group_size)\n",
    "graph_test_result(testResult ,sol_opti1,titre+ \" sad 1\")\n",
    "\n",
    "solver = tbs.tabou2_solver(sad2,iter_max,tabu_size_2,0,init_size)\n",
    "testResult = Testor(solver).test(floatRange(2,4,0.25) ,var,group_size)\n",
    "graph_test_result(testResult,sol_opti2,titre + \" sad 2\")\n"
   ]
  },
  {
   "cell_type": "markdown",
   "metadata": {},
   "source": [
    "sad1 : au delà de 2, pas sur que les variations soient significatives, mais il semble y avoir de bons résultats autour de 7.6.\n",
    "\n",
    "sad2 : il faut au moins 2.75\n",
    "\n",
    "sad3 : optimal à partir de 1.2 (mais pas parfait)\n",
    "\n",
    "## variation de la taille de la solution initiale"
   ]
  },
  {
   "cell_type": "code",
   "execution_count": null,
   "metadata": {},
   "outputs": [],
   "source": [
    "overflow_cost = 7.6"
   ]
  },
  {
   "cell_type": "code",
   "execution_count": null,
   "metadata": {},
   "outputs": [],
   "source": [
    "(variateur,title) = variateur_tabou2.poids_inital()\n",
    "closeIter = floatRange(0.01,1.5,0.07)\n",
    "test = Testor(tbs.tabou2_solver(sad1,iter_max,tabu_size_1,overflow_cost,init_size))\n",
    "testResult = test.test(closeIter,variateur,group_size=group_size)\n",
    "graph_test_result(testResult,sol_opti1,title + \" sad 1\")\n",
    "\n",
    "test = Testor(tbs.tabou2_solver(sad2,iter_max,tabu_size_2,overflow_cost,init_size))\n",
    "testResult = test.test(closeIter,variateur,group_size=group_size)\n",
    "graph_test_result(testResult,sol_opti2,title + \" sad 2\")\n",
    "\n",
    "test = Testor(tbs.tabou2_solver(sad3,iter_max,tabu_size_3,overflow_cost,init_size))\n",
    "testResult = test.test(closeIter,variateur,group_size=group_size)\n",
    "graph_test_result(testResult,sol_opti3,title + \" sad 3\")\n"
   ]
  },
  {
   "cell_type": "markdown",
   "metadata": {},
   "source": [
    "pour le premier sac à dos, il vaut mieux garder un sac le plus vide possible (0.01 donne les meilleurs résultats)\n",
    "\n",
    "Pour le second, c'est champ libre (mais pas trop remplis de préférence)\n",
    "\n",
    "Pour le troisème, le remplir à 75% semble le mieux.\n",
    "\n",
    "### Résultats \"optimaux\""
   ]
  },
  {
   "cell_type": "code",
   "execution_count": null,
   "metadata": {},
   "outputs": [],
   "source": [
    "overflow_cost = 7.6\n",
    "\n",
    "iter_max = 2000 \n",
    "\n",
    "taille_init1n2 = 0.01\n",
    "taille_init3 = 0.75\n",
    "\n",
    "tabu_size_1n2=  200\n",
    "tabu_size_3 = 105"
   ]
  },
  {
   "cell_type": "code",
   "execution_count": null,
   "metadata": {},
   "outputs": [],
   "source": [
    "solver1 = tbs.tabou2_solver(sad1,tabu_size_1n2,tabu_size_1,overflow_cost,taille_init1n2)\n",
    "solver2 = tbs.tabou2_solver(sad2,tabu_size_1n2,tabu_size_2,overflow_cost,taille_init1n2)\n",
    "solver3 = tbs.tabou2_solver(sad3,tabu_size_3,tabu_size_3,overflow_cost,taille_init3)\n",
    "\n",
    "#TODO : tester le temps que ça prend ?"
   ]
  },
  {
   "cell_type": "markdown",
   "metadata": {},
   "source": [
    "### Pour le génitif"
   ]
  }
 ],
 "metadata": {
  "kernelspec": {
   "display_name": "Python 3",
   "language": "python",
   "name": "python3"
  },
  "language_info": {
   "codemirror_mode": {
    "name": "ipython",
    "version": 3
   },
   "file_extension": ".py",
   "mimetype": "text/x-python",
   "name": "python",
   "nbconvert_exporter": "python",
   "pygments_lexer": "ipython3",
   "version": "3.13.2"
  }
 },
 "nbformat": 4,
 "nbformat_minor": 2
}
