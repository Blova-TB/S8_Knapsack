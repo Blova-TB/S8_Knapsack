{
 "cells": [
  {
   "cell_type": "markdown",
   "metadata": {},
   "source": [
    "## Test des paramètres à 100 items"
   ]
  },
  {
   "cell_type": "code",
   "execution_count": null,
   "metadata": {},
   "outputs": [],
   "source": [
    "from testor import *\n",
    "from SadObject import *\n",
    "import parser\n",
    "import tabou_solver as tbs\n",
    "import Other_solver\n",
    "from MyIterator import *\n",
    "\n",
    "import numpy as np\n",
    "import matplotlib.pyplot as plt\n",
    "    \n",
    "class variateur_tabou : \n",
    "    def liste_tabou() :\n",
    "        return tbs.reinit_tabu_list, \"fitness en fonction de la taille de la liste TABU\"\n",
    "    def nombre_iterations() :\n",
    "        return  tbs.reinit_iter_changer, \"fitness en fonction du nombre d'itérations\"\n",
    "    def poids_max_accepte() :\n",
    "        return tbs.reinit_max_weight, \"fitness en fonction du poids maximal\"\n",
    "    def poids_inital() :\n",
    "        return tbs.reinit_solution_size, \"fitness en fonction de de la taille de la solution initiale\""
   ]
  },
  {
   "cell_type": "markdown",
   "metadata": {},
   "source": [
    "### Load les fichiers"
   ]
  },
  {
   "cell_type": "code",
   "execution_count": null,
   "metadata": {},
   "outputs": [],
   "source": [
    "sad1 = parser.loadFromFile(\"Data/pi-12-100-1000-001.kna\")\n",
    "sad2 = parser.loadFromFile(\"Data/pi-13-100-1000-001.kna\")\n",
    "sad3 = parser.loadFromFile(\"Data/pi-15-100-1000-001.kna\")"
   ]
  },
  {
   "cell_type": "markdown",
   "metadata": {},
   "source": [
    "### Trouver la valeur optimale"
   ]
  },
  {
   "cell_type": "code",
   "execution_count": null,
   "metadata": {},
   "outputs": [],
   "source": [
    "solver = Other_solver.Other_solver(sad1)\n",
    "sol_opti1,_ = solver.solve()\n",
    "\n",
    "solver = Other_solver.Other_solver(sad2)\n",
    "sol_opti2,_ = solver.solve()\n",
    "\n",
    "solver = Other_solver.Other_solver(sad3)\n",
    "sol_opti3,_ = solver.solve()\n",
    "\n",
    "print(\"les solutions optimales sont\")\n",
    "print(\"sad 1 :\",sol_opti1,\"pour\",sad1.name)\n",
    "print(\"sad 2 :\",sol_opti2,\"pour\",sad2.name)\n",
    "print(\"sad 3 :\",sol_opti3,\"pour\",sad3.name)"
   ]
  },
  {
   "cell_type": "markdown",
   "metadata": {},
   "source": [
    "## Lecture des graphiques :\n",
    "\n",
    "Le + rouge est la médianne, la moyenne est le point bleu.\n",
    "Les barres bleues représentent les limites des percentile 80 et 20"
   ]
  },
  {
   "cell_type": "markdown",
   "metadata": {},
   "source": [
    "### Pour la liste Tabu"
   ]
  },
  {
   "cell_type": "markdown",
   "metadata": {},
   "source": [
    "Voici les différents paramètres amenés à évoluer :\n",
    "-    iter_max : Nombre maximum d'itération de la boucle du solver \n",
    "-    tabu_size : Taille de la liste tabu\n",
    "-   max_weight : si =1, on essaye de trouver une solution inférieur à la capacité. Si c'est 2, 2 fois la capacité, etc.\n",
    "- def_sol_size : rapport entre la capactié du sac à dos et le poids de la solution initiale (0.5, moitié de la capacité)\n",
    "\n",
    "#### Initialisation des paramètres"
   ]
  },
  {
   "cell_type": "code",
   "execution_count": null,
   "metadata": {},
   "outputs": [],
   "source": [
    "iter_max = 100\n",
    "tabu_size = 5\n",
    "max_weight = 1\n",
    "init_size = 0.5\n",
    "\n",
    "group_size = 100 #nombre de tests de chaque paramètres dans une éxecutions."
   ]
  },
  {
   "cell_type": "markdown",
   "metadata": {},
   "source": [
    "#### Test taille TABU"
   ]
  },
  {
   "cell_type": "code",
   "execution_count": null,
   "metadata": {},
   "outputs": [],
   "source": [
    "(variateur,title) = variateur_tabou.liste_tabou()\n",
    "\n",
    "test = Testor(tbs.Tabou_solver(sad1,iter_max,tabu_size,max_weight,))\n",
    "(x,mediane,err,moyenne) = test.test(range(1,100,2),variateur,group_size)\n",
    "for array in err :\n",
    "    for j in array : \n",
    "        print(j,end=\"\\t\")\n",
    "    print() \n",
    "print(moyenne)\n",
    "graph_result(x,mediane,err,title,sol_opti1,other=moyenne)"
   ]
  },
  {
   "cell_type": "markdown",
   "metadata": {},
   "source": [
    "On constate qu'autour d'une taille de 12, la médiane passe à la solution max.\n",
    "\n",
    "à partir de 38 environs, 80% des solutions trouvées sont optimales\n",
    "\n",
    "à partir de 50 environ, toutes les solutions trouvées sont optimales.\n",
    "\n",
    "## test suivant : nombre d'itérations max"
   ]
  },
  {
   "cell_type": "code",
   "execution_count": null,
   "metadata": {},
   "outputs": [],
   "source": [
    "tabu_size = 40 #il est déjà très probable de trouver la solution optimale avec cette taille.\n",
    "\n",
    "(variateur,title) = variateur_tabou.nombre_iterations()\n",
    "\n",
    "test = Testor(tbs.Tabou_solver(sad1,iter_max,tabu_size,max_weight,))\n",
    "testResult = test.test(range(1,150,3),variateur,group_size)\n",
    "graph_test_result(testResult,sol_opti1,title)\n"
   ]
  },
  {
   "cell_type": "markdown",
   "metadata": {},
   "source": [
    "Au delà de 100 itérations, la solution n'a pas l'air de changer, "
   ]
  },
  {
   "cell_type": "markdown",
   "metadata": {},
   "source": [
    "### Pour le génitif"
   ]
  }
 ],
 "metadata": {
  "kernelspec": {
   "display_name": "Python 3",
   "language": "python",
   "name": "python3"
  },
  "language_info": {
   "codemirror_mode": {
    "name": "ipython",
    "version": 3
   },
   "file_extension": ".py",
   "mimetype": "text/x-python",
   "name": "python",
   "nbconvert_exporter": "python",
   "pygments_lexer": "ipython3",
   "version": "3.13.2"
  }
 },
 "nbformat": 4,
 "nbformat_minor": 2
}
