{
 "cells": [
  {
   "cell_type": "markdown",
   "id": "461c7c3d",
   "metadata": {},
   "source": [
    "## TEST DE LA QUALITE DES ALGORITHMES TABU"
   ]
  },
  {
   "cell_type": "markdown",
   "id": "a74caa53",
   "metadata": {},
   "source": [
    "note : on part du principe que tabu2_solver et tabou_numpy_solver donnent les mêmes résultats (exemple dans [brouillon.py](brouillon.py)).\n",
    "\n",
    "On pourrait surrement optimiser beaucoup tabu1 en utilisant numpy comme sur tabu2, commme dans le fichier brouillon (mais on a plus de temps)"
   ]
  },
  {
   "cell_type": "code",
   "execution_count": 1,
   "id": "18ae18b2",
   "metadata": {},
   "outputs": [
    {
     "name": "stdout",
     "output_type": "stream",
     "text": [
      "load C:\\Users\\ninot\\AppData\\Roaming\\Python\\Python313\\site-packages\\ortools\\.libs\\zlib1.dll...\n",
      "load C:\\Users\\ninot\\AppData\\Roaming\\Python\\Python313\\site-packages\\ortools\\.libs\\abseil_dll.dll...\n",
      "load C:\\Users\\ninot\\AppData\\Roaming\\Python\\Python313\\site-packages\\ortools\\.libs\\utf8_validity.dll...\n",
      "load C:\\Users\\ninot\\AppData\\Roaming\\Python\\Python313\\site-packages\\ortools\\.libs\\re2.dll...\n",
      "load C:\\Users\\ninot\\AppData\\Roaming\\Python\\Python313\\site-packages\\ortools\\.libs\\libprotobuf.dll...\n",
      "load C:\\Users\\ninot\\AppData\\Roaming\\Python\\Python313\\site-packages\\ortools\\.libs\\highs.dll...\n",
      "load C:\\Users\\ninot\\AppData\\Roaming\\Python\\Python313\\site-packages\\ortools\\.libs\\ortools.dll...\n"
     ]
    }
   ],
   "source": [
    "from tools.parser import loadFromFile\n",
    "\n",
    "import tools.tabou_numpy_solver as tbns\n",
    "import tools.tabou_solver as tbs\n",
    "from tools.Other_solver import Other_solver\n",
    "import tools.testor as tst\n",
    "import time\n",
    "from tools.MyIterator import *\n",
    "\n",
    "from multiprocessing import Pool\n",
    "\n",
    "\n",
    "def test_plenty(arg) : \n",
    "    with Pool(5) as p:\n",
    "        for i in p.map(tst.test_perf_map,arg) : \n",
    "            print(i)"
   ]
  },
  {
   "cell_type": "markdown",
   "id": "f613479d",
   "metadata": {},
   "source": [
    "### Pour 100"
   ]
  },
  {
   "cell_type": "code",
   "execution_count": 2,
   "id": "ed5e2795",
   "metadata": {},
   "outputs": [
    {
     "name": "stderr",
     "output_type": "stream",
     "text": [
      "loading file: 100%|██████████| 100/100 [00:00<00:00, 375klines/s]\n",
      "loading file: 100%|██████████| 100/100 [00:00<00:00, 186klines/s]\n",
      "loading file: 100%|██████████| 100/100 [00:00<00:00, 253klines/s]\n"
     ]
    },
    {
     "name": "stdout",
     "output_type": "stream",
     "text": [
      "temps tabou 1: 1.403s goodness = 100.0 %\n",
      "temps tabou 2: 2.644s goodness = 100.0 %\n",
      "tabu2 est 0.53 fois plus rapide que tabu 1\n",
      "\n",
      "temps tabou 1: 0.376s goodness = 98.04 %\n",
      "temps tabou 2: 2.821s goodness = 100.0 %\n",
      "tabu2 est 0.13 fois plus rapide que tabu 1\n",
      "\n",
      "temps tabou 1: 1.156s goodness = 99.1 %\n",
      "temps tabou 2: 2.725s goodness = 99.41 %\n",
      "tabu2 est 0.42 fois plus rapide que tabu 1\n",
      "\n"
     ]
    }
   ],
   "source": [
    "sad_12 = loadFromFile(\"Data/pi-12-100-1000-001.kna\")\n",
    "sad_13 = loadFromFile(\"Data/pi-13-100-1000-001.kna\")\n",
    "sad_15 = loadFromFile(\"Data/pi-15-100-1000-001.kna\")\n",
    "\n",
    "#tabu 1\n",
    "param_tabu1_12_100 = {\"iter_max\": 200,\"tabu_size\": 60, \"max_weight\": 1, \"def_sol_size\":  0.01}\n",
    "param_tabu1_13_100 = {\"iter_max\": 2200,\"tabu_size\": 95,\"max_weight\": 1,\"def_sol_size\":  0.01}#pas sur de la reproductibilité sur d'autres sac de la même forme\n",
    "param_tabu1_15_100 = {\"iter_max\": 200,\"tabu_size\": 60,\"max_weight\": 1,\"def_sol_size\":  0.01}\n",
    "#tabu 2\n",
    "param_tabu2_12_100 = {\"iter_max\": 200,\"tabu_size\": 60,\"cout_depassement\": 2.5,\"def_sol_size\": 0.001}\n",
    "param_tabu2_13_100 = {\"iter_max\": 200,\"tabu_size\": 60,\"cout_depassement\": 2.5,\"def_sol_size\": 0.001}\n",
    "param_tabu2_15_100 = {\"iter_max\": 200,\"tabu_size\": 60,\"cout_depassement\": 2.5,\"def_sol_size\": 0.001}\n",
    "\n",
    "test_plenty([\n",
    "        (sad_12,tbs.Tabou_solver(sad_12,**param_tabu1_12_100),tbns.tabou_numpy_solver(sad_12,**param_tabu2_12_100)),\n",
    "        (sad_13,tbs.Tabou_solver(sad_13,**param_tabu1_13_100),tbns.tabou_numpy_solver(sad_13,**param_tabu2_13_100)),\n",
    "        (sad_15,tbs.Tabou_solver(sad_15,**param_tabu1_15_100),tbns.tabou_numpy_solver(sad_15,**param_tabu2_15_100))])\n",
    "    "
   ]
  },
  {
   "cell_type": "markdown",
   "id": "fec3719e",
   "metadata": {},
   "source": [
    "## Pour 1000"
   ]
  },
  {
   "cell_type": "code",
   "execution_count": 3,
   "id": "7b3e1f3e",
   "metadata": {},
   "outputs": [
    {
     "name": "stderr",
     "output_type": "stream",
     "text": [
      "loading file: 100%|██████████| 1.00k/1.00k [00:00<00:00, 416klines/s]\n",
      "loading file: 100%|██████████| 1.00k/1.00k [00:00<00:00, 316klines/s]\n",
      "loading file: 100%|██████████| 1.00k/1.00k [00:00<00:00, 321klines/s]\n"
     ]
    },
    {
     "name": "stdout",
     "output_type": "stream",
     "text": [
      "temps tabou 1: 27.512s goodness = 100.0 %\n",
      "temps tabou 2: 0.178s goodness = 100.0 %\n",
      "tabu2 est 154.93 fois plus rapide que tabu 1\n",
      "\n",
      "temps tabou 1: 7.044s goodness = 67.51 %\n",
      "temps tabou 2: 0.263s goodness = 100.0 %\n",
      "tabu2 est 26.81 fois plus rapide que tabu 1\n",
      "\n",
      "temps tabou 1: 26.783s goodness = 97.55 %\n",
      "temps tabou 2: 0.142s goodness = 99.21 %\n",
      "tabu2 est 189.07 fois plus rapide que tabu 1\n",
      "\n"
     ]
    }
   ],
   "source": [
    "sad_12 = loadFromFile(\"Data/pi-12-1000-1000-001.kna\")\n",
    "sad_13 = loadFromFile(\"Data/pi-13-1000-1000-001.kna\")\n",
    "sad_15 = loadFromFile(\"Data/pi-15-1000-1000-001.kna\")\n",
    "\n",
    "#tabu 1\n",
    "param_tabu1_12_1000 = {\"iter_max\": 5000, \"tabu_size\": 420, \"max_weight\": 1.0, \"def_sol_size\": 0.001}\n",
    "param_tabu1_13_1000 = {\"iter_max\": 3500, \"tabu_size\": 960, \"max_weight\": 1.0, \"def_sol_size\": 0.55}\n",
    "param_tabu1_15_1000 = {\"iter_max\": 3500, \"tabu_size\": 100, \"max_weight\": 1.0, \"def_sol_size\": 0.15}\n",
    "#tabu 2\n",
    "param_tabu2_12_1000 = {\"iter_max\": 500, \"tabu_size\": 200, \"cout_depassement\": 2.75, \"def_sol_size\": 0.01}\n",
    "param_tabu2_13_1000 = {\"iter_max\": 550, \"tabu_size\": 200, \"cout_depassement\": 2.75, \"def_sol_size\": 0.01}\n",
    "param_tabu2_15_1000 = {\"iter_max\": 400, \"tabu_size\": 105, \"cout_depassement\": 1.24, \"def_sol_size\": 1.4}\n",
    "\n",
    "\n",
    "test_plenty([(sad_12,tbs.Tabou_solver(sad_12,**param_tabu1_12_1000),tbns.tabou_numpy_solver(sad_12,**param_tabu2_12_1000)),\n",
    "             (sad_13,tbs.Tabou_solver(sad_13,**param_tabu1_13_1000),tbns.tabou_numpy_solver(sad_13,**param_tabu2_13_1000)),\n",
    "             (sad_15,tbs.Tabou_solver(sad_15,**param_tabu1_15_1000), tbns.tabou_numpy_solver(sad_15,**param_tabu2_15_1000))])"
   ]
  },
  {
   "cell_type": "markdown",
   "id": "f53fe134",
   "metadata": {},
   "source": [
    "### Pour 10k items"
   ]
  },
  {
   "cell_type": "code",
   "execution_count": 4,
   "id": "4eb4d54c",
   "metadata": {},
   "outputs": [
    {
     "name": "stderr",
     "output_type": "stream",
     "text": [
      "loading file: 100%|██████████| 10.0k/10.0k [00:00<00:00, 411klines/s]\n",
      "loading file: 100%|██████████| 10.0k/10.0k [00:00<00:00, 577klines/s]\n",
      "loading file: 100%|██████████| 10.0k/10.0k [00:00<00:00, 554klines/s]\n"
     ]
    },
    {
     "name": "stdout",
     "output_type": "stream",
     "text": [
      "temps tabou 1: 76.037s goodness = 100.0 %\n",
      "temps tabou 2: 0.934s goodness = 100.0 %\n",
      "tabu2 est 81.38 fois plus rapide que tabu 1\n",
      "\n",
      "temps tabou 1: 73.119s goodness = 64.39 %\n",
      "temps tabou 2: 4.933s goodness = 99.94 %\n",
      "tabu2 est 14.82 fois plus rapide que tabu 1\n",
      "\n",
      "temps tabou 1: 76.641s goodness = 97.54 %\n",
      "temps tabou 2: 3.517s goodness = 99.19 %\n",
      "tabu2 est 21.79 fois plus rapide que tabu 1\n",
      "\n"
     ]
    }
   ],
   "source": [
    "\n",
    "sad_12 = loadFromFile(\"Data/pi-12-10000-1000-001.kna\")\n",
    "sad_13 = loadFromFile(\"Data/pi-13-10000-1000-001.kna\")\n",
    "sad_15 = loadFromFile(\"Data/pi-15-10000-1000-001.kna\")\n",
    "\n",
    "# Tabu 1\n",
    "param_tabu1_12_10000 = {\"iter_max\": 3000, \"tabu_size\": 420, \"max_weight\": 1.0, \"def_sol_size\": 0.001}\n",
    "param_tabu1_13_10000 = {\"iter_max\": 3000, \"tabu_size\": 960, \"max_weight\": 1.0, \"def_sol_size\": 1.0}\n",
    "param_tabu1_15_10000 = {\"iter_max\": 3000, \"tabu_size\": 100, \"max_weight\": 1.0, \"def_sol_size\": 1.0}\n",
    "#tabu 2\n",
    "param_tabu2_12_10000 = {\"iter_max\": 2500, \"tabu_size\": 800, \"cout_depassement\": 1.1, \"def_sol_size\": 0.3}\n",
    "param_tabu2_13_10000 = {\"iter_max\": 9000, \"tabu_size\": 1800, \"cout_depassement\": 2.35, \"def_sol_size\": 0.3}\n",
    "#param_tabu2_13_10000 = {\"iter_max\": 1000, \"tabu_size\": 800, \"cout_depassement\": 1.8, \"def_sol_size\": 0.3} # -> ça marche bien mais c'est pas parfait (seulement 99%)\n",
    "param_tabu2_15_10000 = {\"iter_max\": 9000, \"tabu_size\": 1000, \"cout_depassement\": 1.1, \"def_sol_size\": 0.3}\n",
    "\n",
    "\n",
    "test_plenty([(sad_12, tbs.Tabou_solver(sad_12,**param_tabu1_12_10000), tbns.tabou_numpy_solver(sad_12,**param_tabu2_12_10000)),\n",
    "            (sad_13, tbs.Tabou_solver(sad_13,**param_tabu1_13_10000),tbns.tabou_numpy_solver(sad_13,**param_tabu2_13_10000)),\n",
    "            (sad_15, tbs.Tabou_solver(sad_15,**param_tabu1_15_10000),tbns.tabou_numpy_solver(sad_15,**param_tabu2_15_10000))])"
   ]
  }
 ],
 "metadata": {
  "kernelspec": {
   "display_name": "Python 3",
   "language": "python",
   "name": "python3"
  },
  "language_info": {
   "codemirror_mode": {
    "name": "ipython",
    "version": 3
   },
   "file_extension": ".py",
   "mimetype": "text/x-python",
   "name": "python",
   "nbconvert_exporter": "python",
   "pygments_lexer": "ipython3",
   "version": "3.13.2"
  }
 },
 "nbformat": 4,
 "nbformat_minor": 5
}
